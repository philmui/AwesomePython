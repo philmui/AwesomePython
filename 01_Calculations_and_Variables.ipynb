{
  "nbformat": 4,
  "nbformat_minor": 0,
  "metadata": {
    "colab": {
      "name": "01. Calculations and Variables.ipynb",
      "version": "0.3.2",
      "provenance": [],
      "include_colab_link": true
    },
    "kernelspec": {
      "name": "python3",
      "display_name": "Python 3"
    }
  },
  "cells": [
    {
      "cell_type": "markdown",
      "metadata": {
        "id": "view-in-github",
        "colab_type": "text"
      },
      "source": [
        "<a href=\"https://colab.research.google.com/github/philmui/AwesomePython/blob/master/01_Calculations_and_Variables.ipynb\" target=\"_parent\"><img src=\"https://colab.research.google.com/assets/colab-badge.svg\" alt=\"Open In Colab\"/></a>"
      ]
    },
    {
      "metadata": {
        "id": "PMaOPIp5g0jp",
        "colab_type": "text"
      },
      "cell_type": "markdown",
      "source": [
        ""
      ]
    },
    {
      "metadata": {
        "id": "XqC3KDDehdF7",
        "colab_type": "text"
      },
      "cell_type": "markdown",
      "source": [
        "Chapter 1.  Introduction\n",
        "===================\n",
        "\n",
        "Welcome to Theodore's Awesome Python notebooks!  We are going to start learning Python together in the next few notebooks.  Python is a very powerful language that can be used to build almost any software.  *Trivia*: The original Google search engine was written in Python.\n",
        "\n",
        "\n",
        "##1.1  Python as an Awesome Calculator\n",
        "\n",
        "Normally, when asked to find the product of two numbers like 24 * 3.1415, you would use a calculator or a pencil and paper. Well, how about using the Python shell to perform your calculation? Let’s try by executing this:\n"
      ]
    },
    {
      "metadata": {
        "id": "st4wcHozh3-K",
        "colab_type": "code",
        "colab": {}
      },
      "cell_type": "code",
      "source": [
        "24 * 3.1415"
      ],
      "execution_count": 0,
      "outputs": []
    },
    {
      "metadata": {
        "id": "9x9EEfO2iC2I",
        "colab_type": "text"
      },
      "cell_type": "markdown",
      "source": [
        "Notice that when entering a multiplication calculation in Python, you use the asterisk symbol (*) instead of a multiplication sign (×).  You are using what is called a Python \"interactive shell\" within a Python \"notebook\" to perform the calculation above.\n",
        "\n",
        "### Python Operators\n",
        "\n",
        "You can do multiplication, addition, subtraction, and division in the Python shell, among other mathematical operations that we won’t go into right now. The basic symbols used by Python to perform mathematical operations are called operators, as listed here.\n",
        "\n",
        "| Symbol |  Operations       |\n",
        "|:------------:|-------------------------:|\n",
        "| +            | Addition             |\n",
        "| -            | Subtraction         |\n",
        "| *            | Multiplication     |\n",
        "| /            | Division               |\n",
        "\n",
        "\n",
        "### Precedence: Order of Operations\n",
        "\n",
        "We use parentheses in a programming language to control the order of operations. An operation is anything that uses an operator. Multiplication and division have a higher \"precedence\" than addition and subtraction, which means that they’re performed first. In other words, if you enter an equation in Python, multiplication or divi- sion is performed before addition or subtraction.\n",
        "\n",
        "For example, in the following equation, the numbers 3 and 4 are multiplied first, and the number 2 is added to their product."
      ]
    },
    {
      "metadata": {
        "id": "aQtH4g-elZrF",
        "colab_type": "code",
        "colab": {
          "base_uri": "https://localhost:8080/",
          "height": 34
        },
        "outputId": "f1d0cbc2-41d0-4a32-b9c9-b495b2f8a5b7"
      },
      "cell_type": "code",
      "source": [
        "2 + 3 * 4"
      ],
      "execution_count": 3,
      "outputs": [
        {
          "output_type": "execute_result",
          "data": {
            "text/plain": [
              "14"
            ]
          },
          "metadata": {
            "tags": []
          },
          "execution_count": 3
        }
      ]
    },
    {
      "metadata": {
        "id": "guebGP6engJx",
        "colab_type": "text"
      },
      "cell_type": "markdown",
      "source": [
        "We can change the order of operations by adding parentheses around the first two numbers, like so:"
      ]
    },
    {
      "metadata": {
        "id": "ETCth5qFnpaj",
        "colab_type": "code",
        "colab": {
          "base_uri": "https://localhost:8080/",
          "height": 34
        },
        "outputId": "6029493d-b572-49b7-9852-c5265eabc4e0"
      },
      "cell_type": "code",
      "source": [
        "(2 + 3) * 4"
      ],
      "execution_count": 4,
      "outputs": [
        {
          "output_type": "execute_result",
          "data": {
            "text/plain": [
              "20"
            ]
          },
          "metadata": {
            "tags": []
          },
          "execution_count": 4
        }
      ]
    },
    {
      "metadata": {
        "id": "eknkAkD3n-Fw",
        "colab_type": "text"
      },
      "cell_type": "markdown",
      "source": [
        "Parentheses can be nested, which means that there can be parentheses inside parentheses, like this:"
      ]
    },
    {
      "metadata": {
        "id": "p83uXWLSoBn2",
        "colab_type": "code",
        "colab": {
          "base_uri": "https://localhost:8080/",
          "height": 34
        },
        "outputId": "a75d2d46-e38e-45f6-e538-10bb256c8376"
      },
      "cell_type": "code",
      "source": [
        "((2 + 3) * 4) - 5"
      ],
      "execution_count": 5,
      "outputs": [
        {
          "output_type": "execute_result",
          "data": {
            "text/plain": [
              "15"
            ]
          },
          "metadata": {
            "tags": []
          },
          "execution_count": 5
        }
      ]
    },
    {
      "metadata": {
        "id": "rqcPYJOuoRMn",
        "colab_type": "text"
      },
      "cell_type": "markdown",
      "source": [
        "In this case, Python evaluates the innermost parentheses first, then the outer ones, and then the final division operator.\n",
        "\n",
        "*** TAKEAWAY ***: Remember that multiplication and division always go before addition and subtraction, unless parentheses are used to control the order of operations."
      ]
    },
    {
      "metadata": {
        "id": "E_1OePFl6y4Y",
        "colab_type": "text"
      },
      "cell_type": "markdown",
      "source": [
        "##1.2  Variables\n",
        "\n",
        "The word *variable* in programming describes a place to store infor- mation such as numbers, text, lists of numbers and text, and so on. Another way of looking at a variable is that it’s like a label for something.\n",
        "For example, to create a variable named fred, we use an equal sign (=) and then tell Python what information the variable should be the label for. Here, we create the variable fred and tell Python that it labels the number 100 (note that this doesn’t mean that another variable can’t have the same value):"
      ]
    },
    {
      "metadata": {
        "id": "5uN-JBzF7AZo",
        "colab_type": "code",
        "colab": {}
      },
      "cell_type": "code",
      "source": [
        "fred = 100"
      ],
      "execution_count": 0,
      "outputs": []
    },
    {
      "metadata": {
        "id": "Xc0I7muI7Ceh",
        "colab_type": "text"
      },
      "cell_type": "markdown",
      "source": [
        "To find out what value a variable labels, enter print in the shell, followed by the variable name in parentheses, like this:"
      ]
    },
    {
      "metadata": {
        "id": "QVcXYF6f7Fun",
        "colab_type": "code",
        "colab": {
          "base_uri": "https://localhost:8080/",
          "height": 34
        },
        "outputId": "e5287678-75ba-4c25-8688-b058dde90392"
      },
      "cell_type": "code",
      "source": [
        "print(fred)"
      ],
      "execution_count": 8,
      "outputs": [
        {
          "output_type": "stream",
          "text": [
            "100\n"
          ],
          "name": "stdout"
        }
      ]
    },
    {
      "metadata": {
        "id": "tpk5xU1U7QJx",
        "colab_type": "text"
      },
      "cell_type": "markdown",
      "source": [
        "We can also tell Python to change the variable fred so that it labels something else. For example, here’s how to change fred to the number 200:"
      ]
    },
    {
      "metadata": {
        "id": "Eerhgjq87RxB",
        "colab_type": "code",
        "colab": {
          "base_uri": "https://localhost:8080/",
          "height": 34
        },
        "outputId": "371df77f-9ab7-4a8c-87db-c097d91f222d"
      },
      "cell_type": "code",
      "source": [
        "fred = 200\n",
        "print(fred)"
      ],
      "execution_count": 9,
      "outputs": [
        {
          "output_type": "stream",
          "text": [
            "200\n"
          ],
          "name": "stdout"
        }
      ]
    },
    {
      "metadata": {
        "id": "I9SpKaNv7Z2P",
        "colab_type": "text"
      },
      "cell_type": "markdown",
      "source": [
        "We can also use more than one label (more than one variable) for the same item:"
      ]
    },
    {
      "metadata": {
        "id": "9ICs8rBs7Ugk",
        "colab_type": "code",
        "colab": {
          "base_uri": "https://localhost:8080/",
          "height": 34
        },
        "outputId": "0c6dbbb7-1c73-424a-fcd5-2ee32151cc4c"
      },
      "cell_type": "code",
      "source": [
        "fred = 400\n",
        "john = fred\n",
        "print(john)"
      ],
      "execution_count": 10,
      "outputs": [
        {
          "output_type": "stream",
          "text": [
            "400\n"
          ],
          "name": "stdout"
        }
      ]
    },
    {
      "metadata": {
        "id": "tESo54PZ7gwi",
        "colab_type": "text"
      },
      "cell_type": "markdown",
      "source": [
        "In this example, we’re telling Python that we want the name (or variable) john to label the same thing as fred by using the equal sign between john and fred.\n",
        "\n",
        "\n",
        "## 1.3  Using Variables\n",
        "\n",
        "Let's use variables to help us keep track of calculations.  Let's say that we want to buy a dozen lollypops in Paris, each of which costs 2.50 euros.  How many US dollars would buying all dozen lollypops cost?"
      ]
    },
    {
      "metadata": {
        "id": "VzOZRZi17dLN",
        "colab_type": "code",
        "colab": {
          "base_uri": "https://localhost:8080/",
          "height": 34
        },
        "outputId": "938e4af1-1cc2-4007-bf8a-df207190668d"
      },
      "cell_type": "code",
      "source": [
        "num_lollypops = 12\n",
        "unit_cost = 2.5\n",
        "euro_to_usd = 1.2\n",
        "\n",
        "total_euros = num_lollypops * unit_cost\n",
        "total_usd = total_euros * euro_to_usd\n",
        "\n",
        "print(total_usd)"
      ],
      "execution_count": 11,
      "outputs": [
        {
          "output_type": "stream",
          "text": [
            "36.0\n"
          ],
          "name": "stdout"
        }
      ]
    },
    {
      "metadata": {
        "id": "AW2wNz9s_Q_w",
        "colab_type": "text"
      },
      "cell_type": "markdown",
      "source": [
        "Some of you would say: ok, who cares?  What if the Euro to USD exchange rate changes to 1.1 Euro to 1 USD.  We just need to update the conversion rate:"
      ]
    },
    {
      "metadata": {
        "id": "-xX9VYBK_gVc",
        "colab_type": "code",
        "colab": {
          "base_uri": "https://localhost:8080/",
          "height": 34
        },
        "outputId": "4c57a0be-4c8d-4ed6-8ff8-14a1409565ae"
      },
      "cell_type": "code",
      "source": [
        "euro_to_usd = 1.1\n",
        "total_usd = total_euros * euro_to_usd\n",
        "\n",
        "print(total_usd)"
      ],
      "execution_count": 14,
      "outputs": [
        {
          "output_type": "stream",
          "text": [
            "33.0\n"
          ],
          "name": "stdout"
        }
      ]
    },
    {
      "metadata": {
        "id": "Z1C6dkvt_t_m",
        "colab_type": "text"
      },
      "cell_type": "markdown",
      "source": [
        "Isn’t that a lot easier than retyping the whole equation? It sure is."
      ]
    },
    {
      "metadata": {
        "id": "dF_tDto1_ybr",
        "colab_type": "text"
      },
      "cell_type": "markdown",
      "source": [
        "##1.4  What you learned\n",
        "\n",
        "In this chapter you learned how to do simple equations using Python operators and how to use parentheses to control the order of operations (the order in which Python evaluates the parts of the equations). We then created variables to label values and used those variables in our calculations."
      ]
    }
  ]
}