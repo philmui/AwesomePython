{
  "nbformat": 4,
  "nbformat_minor": 0,
  "metadata": {
    "colab": {
      "name": "01. Introduction.ipynb",
      "version": "0.3.2",
      "provenance": [],
      "include_colab_link": true
    },
    "kernelspec": {
      "name": "python3",
      "display_name": "Python 3"
    }
  },
  "cells": [
    {
      "cell_type": "markdown",
      "metadata": {
        "id": "view-in-github",
        "colab_type": "text"
      },
      "source": [
        "<a href=\"https://colab.research.google.com/github/philmui/AwesomePython/blob/master/01_Introduction.ipynb\" target=\"_parent\"><img src=\"https://colab.research.google.com/assets/colab-badge.svg\" alt=\"Open In Colab\"/></a>"
      ]
    },
    {
      "metadata": {
        "id": "PMaOPIp5g0jp",
        "colab_type": "text"
      },
      "cell_type": "markdown",
      "source": [
        ""
      ]
    },
    {
      "metadata": {
        "id": "XqC3KDDehdF7",
        "colab_type": "text"
      },
      "cell_type": "markdown",
      "source": [
        "Chapter 1.  Introduction\n",
        "===================\n",
        "\n",
        "Welcome to Theodore's Awesome Python notebooks!  We are going to start learning Python together in the next few notebooks.  Python is a very powerful language that can be used to build almost any software.  *Trivia*: The original Google search engine was written in Python.\n",
        "\n",
        "\n",
        "## Python as an Awesome Calculator\n",
        "\n",
        "Normally, when asked to find the product of two numbers like 24 * 3.1415, you would use a calculator or a pencil and paper. Well, how about using the Python shell to perform your calculation? Let’s try by executing this:\n"
      ]
    },
    {
      "metadata": {
        "id": "st4wcHozh3-K",
        "colab_type": "code",
        "colab": {}
      },
      "cell_type": "code",
      "source": [
        "24 * 3.1415"
      ],
      "execution_count": 0,
      "outputs": []
    },
    {
      "metadata": {
        "id": "9x9EEfO2iC2I",
        "colab_type": "text"
      },
      "cell_type": "markdown",
      "source": [
        "Notice that when entering a multiplication calculation in Python, you use the asterisk symbol (*) instead of a multiplication sign (×).  You are using what is called a Python \"interactive shell\" within a Python \"notebook\" to perform the calculation above.\n",
        "\n",
        "### Python Operators\n",
        "\n",
        "You can do multiplication, addition, subtraction, and division in the Python shell, among other mathematical operations that we won’t go into right now. The basic symbols used by Python to perform mathematical operations are called operators, as listed here.\n",
        "\n",
        "| Symbol |  Operations       |\n",
        "|:------------:|-------------------------:|\n",
        "| +            | Addition             |\n",
        "| -            | Subtraction         |\n",
        "| *            | Multiplication     |\n",
        "| /            | Division               |\n",
        "\n",
        "\n",
        "### Precedence: Order of Operations\n",
        "\n",
        "We use parentheses in a programming language to control the order of operations. An operation is anything that uses an operator. Multiplication and division have a higher \"precedence\" than addition and subtraction, which means that they’re performed first. In other words, if you enter an equation in Python, multiplication or divi- sion is performed before addition or subtraction.\n",
        "\n",
        "For example, in the following equation, the numbers 3 and 4 are multiplied first, and the number 2 is added to their product."
      ]
    },
    {
      "metadata": {
        "id": "aQtH4g-elZrF",
        "colab_type": "code",
        "colab": {
          "base_uri": "https://localhost:8080/",
          "height": 34
        },
        "outputId": "81104f93-d397-4a40-d807-07ed5b3a003c"
      },
      "cell_type": "code",
      "source": [
        "2 + 3 * 4"
      ],
      "execution_count": 2,
      "outputs": [
        {
          "output_type": "execute_result",
          "data": {
            "text/plain": [
              "14"
            ]
          },
          "metadata": {
            "tags": []
          },
          "execution_count": 2
        }
      ]
    }
  ]
}